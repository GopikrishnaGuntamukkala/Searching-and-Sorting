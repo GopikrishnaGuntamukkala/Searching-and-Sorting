{
 "cells": [
  {
   "cell_type": "code",
   "execution_count": 5,
   "id": "a520feb3",
   "metadata": {},
   "outputs": [],
   "source": [
    "class Solution:    \n",
    "    def binarysearch(self, arr, n, target):\n",
    "        # code here\n",
    "        low = 0 \n",
    "        high = n-1 \n",
    "        \n",
    "        while low<=high:\n",
    "            mid = low+(high-low)//2 \n",
    "            \n",
    "            if arr[mid] == target:\n",
    "                return mid \n",
    "            elif arr[mid] > target:\n",
    "                high=mid-1 \n",
    "            else:\n",
    "                low=mid+1 \n",
    "        return \"Element not found in the array....\" \n",
    "arr = [1,2,3,4,5,6]\n",
    "n = 6\n",
    "#target = 43\n",
    "target = 4\n"
   ]
  },
  {
   "cell_type": "code",
   "execution_count": 6,
   "id": "97416cc6",
   "metadata": {},
   "outputs": [
    {
     "data": {
      "text/plain": [
       "3"
      ]
     },
     "execution_count": 6,
     "metadata": {},
     "output_type": "execute_result"
    }
   ],
   "source": [
    "obj=Solution()\n",
    "obj.binarysearch(arr, n, target)"
   ]
  },
  {
   "cell_type": "code",
   "execution_count": null,
   "id": "e42ab99e",
   "metadata": {},
   "outputs": [],
   "source": []
  }
 ],
 "metadata": {
  "kernelspec": {
   "display_name": "Python 3 (ipykernel)",
   "language": "python",
   "name": "python3"
  },
  "language_info": {
   "codemirror_mode": {
    "name": "ipython",
    "version": 3
   },
   "file_extension": ".py",
   "mimetype": "text/x-python",
   "name": "python",
   "nbconvert_exporter": "python",
   "pygments_lexer": "ipython3",
   "version": "3.9.12"
  }
 },
 "nbformat": 4,
 "nbformat_minor": 5
}
