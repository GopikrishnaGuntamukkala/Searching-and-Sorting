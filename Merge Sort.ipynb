{
 "cells": [
  {
   "cell_type": "code",
   "execution_count": null,
   "id": "35257b94",
   "metadata": {},
   "outputs": [],
   "source": []
  },
  {
   "cell_type": "code",
   "execution_count": 5,
   "id": "c28d7f01",
   "metadata": {},
   "outputs": [
    {
     "name": "stdout",
     "output_type": "stream",
     "text": [
      "[1, 3, 4, 5, 6] "
     ]
    }
   ],
   "source": [
    "\n",
    "class Solution:\n",
    "    def merge(self,arr, l, m, r): \n",
    "        list1=arr[l:m+1]\n",
    "        list2=arr[m+1:r+1]\n",
    "       \n",
    "        l1=len(list1)\n",
    "        l2=len(list2)\n",
    "       \n",
    "        i=j=0 # initializing left copy and right copy counters\n",
    "        k=l # initializing inplace to-be sorted array counter \n",
    "               # (recursively needs to be initialized to the passed in \"l\")\n",
    "        while i<l1 and j<l2:\n",
    "            if list1[i]<=list2[j]:\n",
    "                arr[k]=list1[i]\n",
    "                i+=1\n",
    "            else:\n",
    "                arr[k]=list2[j]\n",
    "                j+=1\n",
    "            k+=1\n",
    "        while i<l1:\n",
    "            arr[k]=list1[i]\n",
    "            i+=1\n",
    "            k+=1\n",
    "        while j<l2:\n",
    "            arr[k]=list2[j]\n",
    "            j+=1\n",
    "            k+=1\n",
    "        return arr\n",
    "       \n",
    "    def mergeSort(self,arr, l, r):\n",
    "        if l<r:\n",
    "            m=(l+r)//2\n",
    "            self.mergeSort(arr,l,m)\n",
    "            self.mergeSort(arr,m+1,r)\n",
    "            self.merge(arr,l,m,r)\n",
    "arr=[3,5,4,6,1]\n",
    "m=5\n",
    "l=0\n",
    "r=len(arr)-1\n",
    "obj = Solution()\n",
    "obj.mergeSort(arr, l, r)\n",
    "print(arr,end=\" \")"
   ]
  },
  {
   "cell_type": "code",
   "execution_count": null,
   "id": "efe31d7a",
   "metadata": {},
   "outputs": [],
   "source": []
  },
  {
   "cell_type": "code",
   "execution_count": null,
   "id": "552a3f17",
   "metadata": {},
   "outputs": [],
   "source": []
  }
 ],
 "metadata": {
  "kernelspec": {
   "display_name": "Python 3 (ipykernel)",
   "language": "python",
   "name": "python3"
  },
  "language_info": {
   "codemirror_mode": {
    "name": "ipython",
    "version": 3
   },
   "file_extension": ".py",
   "mimetype": "text/x-python",
   "name": "python",
   "nbconvert_exporter": "python",
   "pygments_lexer": "ipython3",
   "version": "3.9.12"
  }
 },
 "nbformat": 4,
 "nbformat_minor": 5
}
