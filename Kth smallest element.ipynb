{
 "cells": [
  {
   "cell_type": "markdown",
   "id": "e9328cf5",
   "metadata": {},
   "source": [
    "# Given an array arr[] and an integer K where K is smaller than size of array, the task is to find the Kth smallest element in the given array. It is given that all array elements are distinct.\n",
    "\n",
    "Example 1:\n",
    "\n",
    "Input:\n",
    "\n",
    "N = 6\n",
    "\n",
    "arr[] = 7 10 4 3 20 15\n",
    "\n",
    "K = 3\n",
    "\n",
    "Output : 7\n",
    "\n",
    "Explanation :\n",
    "3rd smallest element in the given \n",
    "array is 7."
   ]
  },
  {
   "cell_type": "code",
   "execution_count": 6,
   "id": "246dc081",
   "metadata": {},
   "outputs": [
    {
     "name": "stdout",
     "output_type": "stream",
     "text": [
      "enter the kth smallest value is  :  3\n"
     ]
    },
    {
     "data": {
      "text/plain": [
       "4"
      ]
     },
     "execution_count": 6,
     "metadata": {},
     "output_type": "execute_result"
    }
   ],
   "source": [
    "class Solution:\n",
    "    def kthSmallest(self,arr, l, r, k):\n",
    "        '''\n",
    "        arr : given array\n",
    "        l : starting index of the array i.e 0\n",
    "        r : ending index of the array i.e size-1\n",
    "        k : find kth smallest element and return using this function\n",
    "        '''\n",
    "        count = 1\n",
    "        l=0\n",
    "        r=len(arr)-1\n",
    "        n = l - r + 1\n",
    "        arr.sort() #sort the array\n",
    "        for i in range(len(arr)):\n",
    "            if count==k:\n",
    "                return arr[i]\n",
    "            elif arr[i]==arr[i+1]:\n",
    "                count -= 1\n",
    "            else:\n",
    "                count += 1\n",
    "        return -1\n",
    "arr=[1,4,3,6,5]\n",
    "k=int(input(\"enter the kth smallest value is  :  \"))\n",
    "l=0\n",
    "r=len(arr)-1\n",
    "obj=Solution()\n",
    "obj.kthSmallest(arr, l, r, k)"
   ]
  },
  {
   "cell_type": "markdown",
   "id": "9c312a8f",
   "metadata": {},
   "source": [
    "Another method"
   ]
  },
  {
   "cell_type": "code",
   "execution_count": 7,
   "id": "3b209148",
   "metadata": {},
   "outputs": [
    {
     "name": "stdout",
     "output_type": "stream",
     "text": [
      "4\n"
     ]
    }
   ],
   "source": [
    "#Sort the array\n",
    "arr.sort()\n",
    "#print the arr[k-1]\n",
    "#k-1 why means Indexing starts from 0. not from 1\n",
    "print(arr[k-1])"
   ]
  },
  {
   "cell_type": "code",
   "execution_count": null,
   "id": "b59a934f",
   "metadata": {},
   "outputs": [],
   "source": []
  }
 ],
 "metadata": {
  "kernelspec": {
   "display_name": "Python 3 (ipykernel)",
   "language": "python",
   "name": "python3"
  },
  "language_info": {
   "codemirror_mode": {
    "name": "ipython",
    "version": 3
   },
   "file_extension": ".py",
   "mimetype": "text/x-python",
   "name": "python",
   "nbconvert_exporter": "python",
   "pygments_lexer": "ipython3",
   "version": "3.9.12"
  }
 },
 "nbformat": 4,
 "nbformat_minor": 5
}
