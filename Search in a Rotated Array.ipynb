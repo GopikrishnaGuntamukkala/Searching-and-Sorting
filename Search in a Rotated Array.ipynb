{
 "cells": [
  {
   "cell_type": "markdown",
   "id": "7dff80b6",
   "metadata": {},
   "source": [
    "# Given a sorted and rotated array A of N distinct elements which is rotated at some point, and given an element key. The task is to find the index of the given element key in the array A.\n",
    "\n",
    "Example 1:\n",
    "\n",
    "Input:\n",
    "\n",
    "N = 9\n",
    "\n",
    "A[] = {5, 6, 7, 8, 9, 10, 1, 2, 3}\n",
    "\n",
    "key = 10\n",
    "\n",
    "Output:\n",
    "5\n",
    "\n",
    "Explanation: 10 is found at index 5.\n",
    "\n",
    "Example 2:\n",
    "\n",
    "Input:\n",
    "\n",
    "N = 4\n",
    "\n",
    "A[] = {3, 5, 1, 2}\n",
    "\n",
    "key = 6\n",
    "\n",
    "Output:\n",
    "-1\n",
    "\n",
    "Explanation: There is no element that has value 6."
   ]
  },
  {
   "cell_type": "code",
   "execution_count": 8,
   "id": "8c8c67f6",
   "metadata": {},
   "outputs": [
    {
     "name": "stdout",
     "output_type": "stream",
     "text": [
      "enter the search value : 4\n"
     ]
    },
    {
     "data": {
      "text/plain": [
       "'given key is there.  the index value is 3'"
      ]
     },
     "execution_count": 8,
     "metadata": {},
     "output_type": "execute_result"
    }
   ],
   "source": [
    "class Solution:\n",
    "    def search(self, A : list, key : int):\n",
    "        # l: The starting index\n",
    "        # h: The ending index, you have to search the key in this range\n",
    "        # Complete this function\n",
    "        for i in range(len(A)):\n",
    "            if A[i]==key:\n",
    "                return \"given key is there.  the index value is \"+str(i)\n",
    "        return \"search Element not present in the array \"\n",
    "A=[1,2,3,4,5,6,7]\n",
    "n=7\n",
    "key = int(input(\"enter the search value : \"))\n",
    "obj=Solution()\n",
    "obj.search(A,key)"
   ]
  },
  {
   "cell_type": "code",
   "execution_count": null,
   "id": "3fbdac0b",
   "metadata": {},
   "outputs": [],
   "source": []
  }
 ],
 "metadata": {
  "kernelspec": {
   "display_name": "Python 3 (ipykernel)",
   "language": "python",
   "name": "python3"
  },
  "language_info": {
   "codemirror_mode": {
    "name": "ipython",
    "version": 3
   },
   "file_extension": ".py",
   "mimetype": "text/x-python",
   "name": "python",
   "nbconvert_exporter": "python",
   "pygments_lexer": "ipython3",
   "version": "3.9.12"
  }
 },
 "nbformat": 4,
 "nbformat_minor": 5
}
