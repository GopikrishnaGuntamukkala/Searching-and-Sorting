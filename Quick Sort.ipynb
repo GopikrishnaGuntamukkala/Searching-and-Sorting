{
 "cells": [
  {
   "cell_type": "markdown",
   "id": "c30b73a9",
   "metadata": {},
   "source": [
    "# Quick Sort is a Divide and Conquer algorithm. It picks an element as pivot and partitions the given array around the picked pivot.\n",
    "Given an array arr[], its starting position low and its ending position high.\n",
    "\n",
    "Implement the partition() and quickSort() functions to sort the array.\n",
    "\n",
    "\n",
    "Example 1:\n",
    "\n",
    "Input: \n",
    "\n",
    "N = 5 \n",
    "\n",
    "arr[] = { 4, 1, 3, 9, 7}\n",
    "\n",
    "Output:\n",
    "\n",
    "1 3 4 7 9\n"
   ]
  },
  {
   "cell_type": "code",
   "execution_count": 2,
   "id": "b21f29ff",
   "metadata": {},
   "outputs": [
    {
     "name": "stdout",
     "output_type": "stream",
     "text": [
      "1 3 4 6 9\n"
     ]
    }
   ],
   "source": [
    "class Solution:\n",
    "    #Function to sort a list using quick sort algorithm.\n",
    "    def quickSort(self,arr,l,h):\n",
    "        # code here\n",
    "        while l<h:\n",
    "            p = self.partition(arr, l , h)\n",
    "            self.quickSort(arr,l,p)\n",
    "            l = p+1\n",
    "    def partition(self,arr,l,h):\n",
    "        # code here\n",
    "        pivot = arr[l]\n",
    "        i = l-1\n",
    "        j = h+1\n",
    "        while True:\n",
    "            i += 1\n",
    "            while(arr[i]<pivot):\n",
    "                i +=1\n",
    "                \n",
    "            j -=1\n",
    "            while(arr[j]>pivot):\n",
    "                j-=1\n",
    "            if i>=j:\n",
    "                return j\n",
    "                \n",
    "            arr[i], arr[j] = arr[j], arr[i]\n",
    "              \n",
    "arr=[4,1,3,9,6]\n",
    "l=0\n",
    "h=len(arr)-1\n",
    "\n",
    "obj = Solution()\n",
    "obj.quickSort(arr,l,h)\n",
    "print(*arr)"
   ]
  },
  {
   "cell_type": "code",
   "execution_count": null,
   "id": "48e65940",
   "metadata": {},
   "outputs": [],
   "source": []
  }
 ],
 "metadata": {
  "kernelspec": {
   "display_name": "Python 3 (ipykernel)",
   "language": "python",
   "name": "python3"
  },
  "language_info": {
   "codemirror_mode": {
    "name": "ipython",
    "version": 3
   },
   "file_extension": ".py",
   "mimetype": "text/x-python",
   "name": "python",
   "nbconvert_exporter": "python",
   "pygments_lexer": "ipython3",
   "version": "3.9.12"
  }
 },
 "nbformat": 4,
 "nbformat_minor": 5
}
