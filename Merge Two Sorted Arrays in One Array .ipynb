{
 "cells": [
  {
   "cell_type": "markdown",
   "id": "8d620fae",
   "metadata": {},
   "source": [
    "# MergeTwoSortedArrays in One Array "
   ]
  },
  {
   "cell_type": "code",
   "execution_count": 2,
   "id": "a3bfdb00",
   "metadata": {},
   "outputs": [
    {
     "name": "stdout",
     "output_type": "stream",
     "text": [
      "[1, 2, 3, 4, 5, 6, 7, 8]\n"
     ]
    }
   ],
   "source": [
    "arr1=[7,3,5,1]\n",
    "arr2=[8,6,4,2]\n",
    "arr=[]\n",
    "arr1.sort()\n",
    "arr2.sort()\n",
    "a=len(arr1)\n",
    "b=len(arr2)\n",
    "i=0\n",
    "j=0\n",
    "while (i<a) and (j<b):\n",
    "    if arr1[i]<arr2[j]:\n",
    "        arr.append(arr1[i])\n",
    "        i=i+1\n",
    "    else:\n",
    "        arr.append(arr2[j])\n",
    "        j=j+1\n",
    "while i<a:\n",
    "    arr.append(arr1[i])\n",
    "    i=i+1\n",
    "while j<b:\n",
    "    arr.append(arr2[j])\n",
    "    j=j+1\n",
    "print(arr)\n",
    "        \n"
   ]
  },
  {
   "cell_type": "markdown",
   "id": "600d4af9",
   "metadata": {},
   "source": [
    "# Merge Without Extra Space"
   ]
  },
  {
   "cell_type": "code",
   "execution_count": 7,
   "id": "24324962",
   "metadata": {},
   "outputs": [],
   "source": [
    "\n",
    "class Solution:\n",
    "    #Function to merge the arrays.\n",
    "    def merge(self,arr1,arr2,n,m):\n",
    "        #code here\n",
    "        i=n-1\n",
    "        j=0\n",
    "        while i>=0 and j<m:\n",
    "            if arr1[i]>=arr2[j]:\n",
    "                arr1[i],arr2[j]=arr2[j],arr1[i]\n",
    "            i-=1\n",
    "            j+=1\n",
    "        arr1.sort()\n",
    "        arr2.sort()\n",
    "        print(arr1,end=\" \")\n",
    "        print(arr2)\n",
    "n = 4\n",
    "arr1 = [1,3,5,7] \n",
    "m = 5\n",
    "arr2 = [0,2,6,8,9]"
   ]
  },
  {
   "cell_type": "code",
   "execution_count": 8,
   "id": "4993868d",
   "metadata": {},
   "outputs": [
    {
     "name": "stdout",
     "output_type": "stream",
     "text": [
      "[0, 1, 2, 3] [5, 6, 7, 8, 9]\n"
     ]
    }
   ],
   "source": [
    "obj = Solution()\n",
    "obj.merge(arr1, arr2, n,m)"
   ]
  },
  {
   "cell_type": "code",
   "execution_count": 9,
   "id": "ad892563",
   "metadata": {},
   "outputs": [
    {
     "name": "stdout",
     "output_type": "stream",
     "text": [
      "0 1 2 3 5 6 7 8 9\n"
     ]
    }
   ],
   "source": [
    "print(*arr1,end=\" \")\n",
    "print(*arr2) #difference between *arr and normal arr"
   ]
  },
  {
   "cell_type": "code",
   "execution_count": null,
   "id": "482b29b3",
   "metadata": {},
   "outputs": [],
   "source": []
  }
 ],
 "metadata": {
  "kernelspec": {
   "display_name": "Python 3 (ipykernel)",
   "language": "python",
   "name": "python3"
  },
  "language_info": {
   "codemirror_mode": {
    "name": "ipython",
    "version": 3
   },
   "file_extension": ".py",
   "mimetype": "text/x-python",
   "name": "python",
   "nbconvert_exporter": "python",
   "pygments_lexer": "ipython3",
   "version": "3.9.12"
  }
 },
 "nbformat": 4,
 "nbformat_minor": 5
}
