{
 "cells": [
  {
   "cell_type": "markdown",
   "id": "9e10bfd0",
   "metadata": {},
   "source": [
    "Given an array A[] of integers, sort the array according to frequency of elements. That is elements that have higher frequency come first. If frequencies of two elements are same, then smaller number comes first.\n",
    "\n",
    "\n",
    "Input:\n",
    "The first line of input contains an integer T denoting the number of test cases. The description of T test cases follows. The first line of each test case contains a single integer N denoting the size of array. The second line contains N space-separated integers A1, A2, ..., AN denoting the elements of the array.\n",
    "\n",
    "\n",
    "Output:\n",
    "For each testcase, in a new line, print each sorted array in a seperate line. For each array its numbers should be seperated by space.\n",
    "\n"
   ]
  },
  {
   "cell_type": "code",
   "execution_count": 1,
   "id": "2db6f8ba",
   "metadata": {},
   "outputs": [
    {
     "name": "stdout",
     "output_type": "stream",
     "text": [
      "2\n",
      "5\n",
      "5 5 4 6 4\n",
      "4 4 5 5 6 \n",
      "5\n",
      "9 9 9 2 5\n",
      "9 9 9 2 5 \n"
     ]
    }
   ],
   "source": [
    "#code\n",
    "from collections import Counter\n",
    "t = int(input())\n",
    "for _ in range(t):\n",
    "    n = int(input())\n",
    "    l = list(map(int, input().split()))\n",
    "    cnt = Counter(l)\n",
    "    l.sort(key=lambda x : (-cnt[x], x))\n",
    "    print(*l, sep =\" \", end=\"\")\n",
    "    print(\" \")"
   ]
  },
  {
   "cell_type": "code",
   "execution_count": null,
   "id": "e9ae4ff2",
   "metadata": {},
   "outputs": [],
   "source": []
  }
 ],
 "metadata": {
  "kernelspec": {
   "display_name": "Python 3 (ipykernel)",
   "language": "python",
   "name": "python3"
  },
  "language_info": {
   "codemirror_mode": {
    "name": "ipython",
    "version": 3
   },
   "file_extension": ".py",
   "mimetype": "text/x-python",
   "name": "python",
   "nbconvert_exporter": "python",
   "pygments_lexer": "ipython3",
   "version": "3.9.12"
  }
 },
 "nbformat": 4,
 "nbformat_minor": 5
}
