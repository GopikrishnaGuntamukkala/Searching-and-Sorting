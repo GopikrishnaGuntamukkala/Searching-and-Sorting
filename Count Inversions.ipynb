{
 "cells": [
  {
   "cell_type": "markdown",
   "id": "a7f6abdb",
   "metadata": {},
   "source": [
    "Given an array of integers. Find the Inversion Count in the array. \n",
    "\n",
    "Inversion Count: For an array, inversion count indicates how far (or close) the array is from being sorted.\n",
    "\n",
    "If array is already sorted then the inversion count is 0. If an array is sorted in the reverse order then the inversion count is the maximum. \n",
    "\n",
    "\n",
    "Formally, two elements a[i] and a[j] form an inversion if a[i] > a[j] and i < j.\n",
    " "
   ]
  },
  {
   "cell_type": "code",
   "execution_count": 2,
   "id": "03388bf9",
   "metadata": {},
   "outputs": [
    {
     "name": "stdout",
     "output_type": "stream",
     "text": [
      "Number of inversions in the given array is  5\n"
     ]
    }
   ],
   "source": [
    "# Python 3 program to count inversions in an array\n",
    "\n",
    "# Function to Use Inversion Count\n",
    "\n",
    "\n",
    "def mergeSort(arr, n):\n",
    "\t# A temp_arr is created to store sorted array in merge function\n",
    "\ttemp_arr = [0]*n\n",
    "\treturn _mergeSort(arr, temp_arr, 0, n-1)\n",
    "\n",
    "# This Function will use MergeSort to count inversions\n",
    "\n",
    "\n",
    "def _mergeSort(arr, temp_arr, left, right):\n",
    "\n",
    "\t# A variable inv_count is used to store inversion counts in each recursive call\n",
    "\n",
    "\tinv_count = 0\n",
    "\n",
    "\t# We will make a recursive call if and only if we have more than one elements\n",
    "\n",
    "\tif left < right:\n",
    "\n",
    "\t\t# mid is calculated to divide the array into two subarrays Floor division is must in case of python\n",
    "\n",
    "\t\tmid = (left + right)//2\n",
    "\n",
    "\t\t# It will calculate inversion counts in the left subarray\n",
    "\n",
    "\t\tinv_count += _mergeSort(arr, temp_arr,\n",
    "\t\t\t\t\t\t\t\tleft, mid)\n",
    "\n",
    "\t\t# It will calculate inversion counts in right subarray\n",
    "\n",
    "\t\tinv_count += _mergeSort(arr, temp_arr,\n",
    "\t\t\t\t\t\t\t\tmid + 1, right)\n",
    "\n",
    "\t\t# It will merge two subarrays in a sorted subarray\n",
    "\n",
    "\t\tinv_count += merge(arr, temp_arr, left, mid, right)\n",
    "\treturn inv_count\n",
    "\n",
    "# This function will merge two subarrays in a single sorted subarray\n",
    "\n",
    "\n",
    "def merge(arr, temp_arr, left, mid, right):\n",
    "\ti = left\t # Starting index of left subarray\n",
    "\tj = mid + 1 # Starting index of right subarray\n",
    "\tk = left\t # Starting index of to be sorted subarray\n",
    "\tinv_count = 0\n",
    "\n",
    "\t# Conditions are checked to make sure that i and j don't exceed their subarray limits.\n",
    "\n",
    "\twhile i <= mid and j <= right:\n",
    "\n",
    "\t\t# There will be no inversion if arr[i] <= arr[j]\n",
    "\n",
    "\t\tif arr[i] <= arr[j]:\n",
    "\t\t\ttemp_arr[k] = arr[i]\n",
    "\t\t\tk += 1\n",
    "\t\t\ti += 1\n",
    "\t\telse:\n",
    "\t\t\t# Inversion will occur.\n",
    "\t\t\ttemp_arr[k] = arr[j]\n",
    "\t\t\tinv_count += (mid-i + 1)\n",
    "\t\t\tk += 1\n",
    "\t\t\tj += 1\n",
    "\n",
    "\t# Copy the remaining elements of left subarray into temporary array\n",
    "\twhile i <= mid:\n",
    "\t\ttemp_arr[k] = arr[i]\n",
    "\t\tk += 1\n",
    "\t\ti += 1\n",
    "\n",
    "\t# Copy the remaining elements of right subarray into temporary array\n",
    "\twhile j <= right:\n",
    "\t\ttemp_arr[k] = arr[j]\n",
    "\t\tk += 1\n",
    "\t\tj += 1\n",
    "\n",
    "\t# Copy the sorted subarray into Original array\n",
    "\tfor loop_var in range(left, right + 1):\n",
    "\t\tarr[loop_var] = temp_arr[loop_var]\n",
    "\n",
    "\treturn inv_count\n",
    "\n",
    "\n",
    "# Given array is\n",
    "arr = [1, 20, 6, 4, 5]\n",
    "n = len(arr) #len() function will give the length of the array/list.\n",
    "result = mergeSort(arr, n)\n",
    "print(\"Number of inversions in the given array is \", result)\n",
    "\n"
   ]
  },
  {
   "cell_type": "markdown",
   "id": "9bce4adf",
   "metadata": {},
   "source": [
    "we can do this in O(n2) also \n",
    "above we solved using mergesort O(nlogN)"
   ]
  },
  {
   "cell_type": "code",
   "execution_count": null,
   "id": "7936769a",
   "metadata": {},
   "outputs": [],
   "source": []
  }
 ],
 "metadata": {
  "kernelspec": {
   "display_name": "Python 3 (ipykernel)",
   "language": "python",
   "name": "python3"
  },
  "language_info": {
   "codemirror_mode": {
    "name": "ipython",
    "version": 3
   },
   "file_extension": ".py",
   "mimetype": "text/x-python",
   "name": "python",
   "nbconvert_exporter": "python",
   "pygments_lexer": "ipython3",
   "version": "3.9.12"
  }
 },
 "nbformat": 4,
 "nbformat_minor": 5
}
