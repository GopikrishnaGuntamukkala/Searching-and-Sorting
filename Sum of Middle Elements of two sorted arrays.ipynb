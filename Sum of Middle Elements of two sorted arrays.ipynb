{
 "cells": [
  {
   "cell_type": "markdown",
   "id": "e7c32208",
   "metadata": {},
   "source": [
    "Given 2 sorted arrays Ar1 and Ar2 of size N each. Merge the given arrays and find the sum of the two middle elements of the merged array.\n",
    "\n",
    " \n",
    "\n",
    "Example 1:\n",
    "\n",
    "Input:\n",
    "\n",
    "N = 5\n",
    "\n",
    "Ar1[] = {1, 2, 4, 6, 10}\n",
    "\n",
    "Ar2[] = {4, 5, 6, 9, 12}\n",
    "\n",
    "Output: 11\n",
    "\n",
    "Explanation: The merged array looks like\n",
    "{1,2,4,4,5,6,6,9,10,12}. \n",
    "\n",
    "Sum of middle\n",
    "elements is 11 (5 + 6)."
   ]
  },
  {
   "cell_type": "code",
   "execution_count": 2,
   "id": "258e7099",
   "metadata": {},
   "outputs": [
    {
     "data": {
      "text/plain": [
       "11"
      ]
     },
     "execution_count": 2,
     "metadata": {},
     "output_type": "execute_result"
    }
   ],
   "source": [
    "\n",
    "class Solution:\n",
    "\tdef findMidSum(self, ar1, ar2, n): \n",
    "\t\t# code here \n",
    "\t\ti=0\n",
    "\t\tj=0\n",
    "\t\tarr=[]\n",
    "\t\twhile i<len(ar1) and j<len(ar2):\n",
    "\t\t    if ar1[i]<ar2[j]:\n",
    "\t\t        arr.append(ar1[i])\n",
    "\t\t        i+=1\n",
    "\t\t    else:\n",
    "\t\t        arr.append(ar2[j])\n",
    "\t\t        j+=1\n",
    "\t\tif i<len(ar1):\n",
    "\t\t    arr.append(ar1[i])\n",
    "\t\t    i+=1\n",
    "\t\tif j<len(ar2):\n",
    "\t\t    arr.append(ar2[j])\n",
    "\t\t    j+=1\n",
    "\t\t\n",
    "\t\t\n",
    "\t\tres=arr[n]+arr[n-1]\n",
    "\n",
    "\t\treturn res\n",
    "\n",
    "n = 5\n",
    "ar1 = [1, 2, 4, 6, 10]\n",
    "ar2 = [4, 5, 6, 9, 12]\n",
    "\n",
    "\n",
    "obj = Solution()\n",
    "obj.findMidSum(ar1, ar2, n)"
   ]
  },
  {
   "cell_type": "code",
   "execution_count": null,
   "id": "7ab774a7",
   "metadata": {},
   "outputs": [],
   "source": []
  }
 ],
 "metadata": {
  "kernelspec": {
   "display_name": "Python 3 (ipykernel)",
   "language": "python",
   "name": "python3"
  },
  "language_info": {
   "codemirror_mode": {
    "name": "ipython",
    "version": 3
   },
   "file_extension": ".py",
   "mimetype": "text/x-python",
   "name": "python",
   "nbconvert_exporter": "python",
   "pygments_lexer": "ipython3",
   "version": "3.9.12"
  }
 },
 "nbformat": 4,
 "nbformat_minor": 5
}
